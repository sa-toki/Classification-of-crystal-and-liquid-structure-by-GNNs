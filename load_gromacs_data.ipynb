{
 "cells": [
  {
   "cell_type": "markdown",
   "id": "b867412c",
   "metadata": {},
   "source": [
    "# Install Packages"
   ]
  },
  {
   "cell_type": "code",
   "execution_count": null,
   "id": "e4a3521e",
   "metadata": {},
   "outputs": [],
   "source": [
    "conda install -c conda-forge mdtraj\n",
    "conda install numpy\n",
    "conda install -c conda-forge matplotlib"
   ]
  },
  {
   "cell_type": "markdown",
   "id": "aa14db44",
   "metadata": {},
   "source": [
    "# Import Packages"
   ]
  },
  {
   "cell_type": "code",
   "execution_count": null,
   "id": "b55adbd6",
   "metadata": {},
   "outputs": [],
   "source": [
    "import mdtraj as md\n",
    "import numpy as np\n",
    "import os\n",
    "import matplotlib.pyplot as plt"
   ]
  },
  {
   "cell_type": "markdown",
   "id": "76c8d1e7",
   "metadata": {},
   "source": [
    "# Load GROMACS Data"
   ]
  },
  {
   "cell_type": "code",
   "execution_count": null,
   "id": "b5fd281e",
   "metadata": {},
   "outputs": [],
   "source": [
    "h_ice=md.load('./gromacs_simulation/md_1h_ice.trr',top='./gromacs_simulation/md_1h_ice.gro')\n",
    "c_ice=md.load('./gromacs_simulation/md_1c_ice.trr',top='./gromacs_simulation/md_1c_ice.gro')\n",
    "wat=md.load('./gromacs_simulation/md_water.trr',top='./gromacs_simulation/md_water.gro')"
   ]
  },
  {
   "cell_type": "code",
   "execution_count": null,
   "id": "01b19423",
   "metadata": {},
   "outputs": [],
   "source": [
    "h_box=h_ice.unitcell_vectors\n",
    "c_box=c_ice.unitcell_vectors\n",
    "wat_box=wat.unitcell_vectors"
   ]
  },
  {
   "cell_type": "code",
   "execution_count": null,
   "id": "873bac30",
   "metadata": {},
   "outputs": [],
   "source": [
    "h_ice=h_ice.xyz\n",
    "c_ice=c_ice.xyz\n",
    "wat=wat.xyz"
   ]
  },
  {
   "cell_type": "code",
   "execution_count": null,
   "id": "41ff73cc",
   "metadata": {},
   "outputs": [],
   "source": [
    "h_ice_oxygen_data=h_ice[:,0::4,:]\n",
    "h_ice_hydrogen1_data=h_ice[:,1::4,:]\n",
    "h_ice_hydrogen2_data=h_ice[:,2::4,:]"
   ]
  },
  {
   "cell_type": "code",
   "execution_count": null,
   "id": "6d00657c",
   "metadata": {},
   "outputs": [],
   "source": [
    "c_ice_oxygen_data=c_ice[:,0::4,:]\n",
    "c_ice_hydrogen1_data=c_ice[:,1::4,:]\n",
    "c_ice_hydrogen2_data=c_ice[:,2::4,:]"
   ]
  },
  {
   "cell_type": "code",
   "execution_count": null,
   "id": "5ce89594",
   "metadata": {},
   "outputs": [],
   "source": [
    "wat_oxygen_data=wat[:,0::4,:]\n",
    "wat_hydrogen1_data=wat[:,1::4,:]\n",
    "wat_hydrogen2_data=wat[:,2::4,:]"
   ]
  },
  {
   "cell_type": "code",
   "execution_count": null,
   "id": "79607eef",
   "metadata": {},
   "outputs": [],
   "source": [
    "h_ice_box_data=np.zeros((h_ice.shape[0],3))\n",
    "for i in range(3):\n",
    "    h_ice_box_data[:,i]=h_box[:,i,i]"
   ]
  },
  {
   "cell_type": "code",
   "execution_count": null,
   "id": "db0486b5",
   "metadata": {},
   "outputs": [],
   "source": [
    "c_ice_box_data=np.zeros((c_ice.shape[0],3))\n",
    "for i in range(3):\n",
    "    c_ice_box_data[:,i]=c_box[:,i,i]"
   ]
  },
  {
   "cell_type": "code",
   "execution_count": null,
   "id": "cf2caffd",
   "metadata": {},
   "outputs": [],
   "source": [
    "wat_box_data=np.zeros((wat.shape[0],3))\n",
    "for i in range(3):\n",
    "    wat_box_data[:,i]=wat_box[:,i,i]"
   ]
  },
  {
   "cell_type": "code",
   "execution_count": null,
   "id": "f9fb4d3e",
   "metadata": {},
   "outputs": [],
   "source": [
    "for j in range(h_ice_oxygen_data.shape[0]):\n",
    "    d=h_ice_hydrogen1_data[j]-h_ice_oxygen_data[j]\n",
    "    for i in range(3):\n",
    "        l1=np.where(d[:,i]<-h_ice_box_data[j,i]/2,h_ice_box_data[j,i],0)\n",
    "        l2=np.where(d[:,i]>h_ice_box_data[j,i]/2,-h_ice_box_data[j,i],0)\n",
    "        h_ice_hydrogen1_data[j,:,i]=h_ice_hydrogen1_data[j,:,i]+l1+l2\n",
    "for j in range(c_ice_oxygen_data.shape[0]):\n",
    "    d=c_ice_hydrogen1_data[j]-c_ice_oxygen_data[j]\n",
    "    for i in range(3):\n",
    "        l1=np.where(d[:,i]<-c_ice_box_data[j,i]/2,c_ice_box_data[j,i],0)\n",
    "        l2=np.where(d[:,i]>c_ice_box_data[j,i]/2,-c_ice_box_data[j,i],0)\n",
    "        c_ice_hydrogen1_data[j,:,i]=c_ice_hydrogen1_data[j,:,i]+l1+l2\n",
    "for j in range(wat_oxygen_data.shape[0]):\n",
    "    d=wat_hydrogen1_data[j]-wat_oxygen_data[j]\n",
    "    for i in range(3):\n",
    "        l1=np.where(d[:,i]<-wat_box_data[j,i]/2,wat_box_data[j,i],0)\n",
    "        l2=np.where(d[:,i]>wat_box_data[j,i]/2,-wat_box_data[j,i],0)\n",
    "        wat_hydrogen1_data[j,:,i]=wat_hydrogen1_data[j,:,i]+l1+l2"
   ]
  },
  {
   "cell_type": "code",
   "execution_count": null,
   "id": "e7f5e3eb",
   "metadata": {},
   "outputs": [],
   "source": [
    "for j in range(h_ice_oxygen_data.shape[0]):\n",
    "    d=h_ice_hydrogen2_data[j]-h_ice_oxygen_data[j]\n",
    "    for i in range(3):\n",
    "        l1=np.where(d[:,i]<-h_ice_box_data[j,i]/2,h_ice_box_data[j,i],0)\n",
    "        l2=np.where(d[:,i]>h_ice_box_data[j,i]/2,-h_ice_box_data[j,i],0)\n",
    "        h_ice_hydrogen2_data[j,:,i]=h_ice_hydrogen2_data[j,:,i]+l1+l2\n",
    "for j in range(c_ice_oxygen_data.shape[0]):\n",
    "    d=c_ice_hydrogen2_data[j]-c_ice_oxygen_data[j]\n",
    "    for i in range(3):\n",
    "        l1=np.where(d[:,i]<-c_ice_box_data[j,i]/2,c_ice_box_data[j,i],0)\n",
    "        l2=np.where(d[:,i]>c_ice_box_data[j,i]/2,-c_ice_box_data[j,i],0)\n",
    "        c_ice_hydrogen2_data[j,:,i]=c_ice_hydrogen2_data[j,:,i]+l1+l2\n",
    "for j in range(wat_oxygen_data.shape[0]):\n",
    "    d=wat_hydrogen2_data[j]-wat_oxygen_data[j]\n",
    "    for i in range(3):\n",
    "        l1=np.where(d[:,i]<-wat_box_data[j,i]/2,wat_box_data[j,i],0)\n",
    "        l2=np.where(d[:,i]>wat_box_data[j,i]/2,-wat_box_data[j,i],0)\n",
    "        wat_hydrogen2_data[j,:,i]=wat_hydrogen2_data[j,:,i]+l1+l2"
   ]
  },
  {
   "cell_type": "markdown",
   "id": "0cacf573",
   "metadata": {},
   "source": [
    "# Save numpy File"
   ]
  },
  {
   "cell_type": "code",
   "execution_count": null,
   "id": "1afd2896",
   "metadata": {},
   "outputs": [],
   "source": [
    "if os.path.isdir('./ice/269K_ice_data') == False:\n",
    "    os.makedirs('./ice/269K_ice_data')\n",
    "if os.path.isdir('./ice/269K_wat_data') == False:\n",
    "    os.makedirs('./ice/269K_wat_data')\n",
    "    \n",
    "np.save(os.path.join('./ice/269K_ice_data', '1h_ice_oxygen.npy'), h_ice_oxygen_data)\n",
    "np.save(os.path.join('./ice/269K_ice_data', '1h_ice_hydrogen1.npy'), h_ice_hydrogen1_data)\n",
    "np.save(os.path.join('./ice/269K_ice_data', '1h_ice_hydrogen2.npy'), h_ice_hydrogen2_data)\n",
    "np.save(os.path.join('./ice/269K_ice_data', '1h_ice_box.npy'), h_ice_box_data)\n",
    "np.save(os.path.join('./ice/269K_ice_data', '1c_ice_oxygen.npy'), c_ice_oxygen_data)\n",
    "np.save(os.path.join('./ice/269K_ice_data', '1c_ice_hydrogen1.npy'), c_ice_hydrogen1_data)\n",
    "np.save(os.path.join('./ice/269K_ice_data', '1c_ice_hydrogen2.npy'), c_ice_hydrogen2_data)\n",
    "np.save(os.path.join('./ice/269K_ice_data', '1c_ice_box.npy'), c_ice_box_data)\n",
    "np.save(os.path.join('./wat/269K_wat_data', 'wat_oxygen.npy'), wat_oxygen_data)\n",
    "np.save(os.path.join('./wat/269K_wat_data', 'wat_hydrogen1.npy'), wat_hydrogen1_data)\n",
    "np.save(os.path.join('./wat/269K_wat_data', 'wat_hydrogen2.npy'), wat_hydrogen2_data)\n",
    "np.save(os.path.join('./wat/269K_wat_data', 'wat_box.npy'), wat_box_data)\n",
    "\n",
    "np.save(os.path.join('./ice/269K_ice_data', '1h_ice_box.npy'), h_ice_box_data)\n",
    "np.save(os.path.join('./ice/269K_ice_data', '1c_ice_box.npy'), c_ice_box_data)\n",
    "np.save(os.path.join('./wat/269K_wat_data', 'wat_box.npy'), c_ice_box_data)"
   ]
  }
 ],
 "metadata": {
  "kernelspec": {
   "display_name": "Pytorch",
   "language": "python",
   "name": "pytorch"
  },
  "language_info": {
   "codemirror_mode": {
    "name": "ipython",
    "version": 3
   },
   "file_extension": ".py",
   "mimetype": "text/x-python",
   "name": "python",
   "nbconvert_exporter": "python",
   "pygments_lexer": "ipython3",
   "version": "3.7.10"
  }
 },
 "nbformat": 4,
 "nbformat_minor": 5
}
